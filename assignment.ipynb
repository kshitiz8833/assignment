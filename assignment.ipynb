{
 "cells": [
  {
   "cell_type": "markdown",
   "metadata": {},
   "source": [
    "KSHITIZ RASAILI"
   ]
  },
  {
   "cell_type": "markdown",
   "metadata": {},
   "source": [
    "CONDITIONAL STATEMENT\n",
    " 1. Write a program that asks the user to enter a number and checks whether the number is even or odd."
   ]
  },
  {
   "cell_type": "code",
   "execution_count": 1,
   "metadata": {},
   "outputs": [
    {
     "name": "stdout",
     "output_type": "stream",
     "text": [
      "7 is an odd number.\n"
     ]
    }
   ],
   "source": [
    "# Input number from the user\n",
    "num = int(input(\"Enter a number: \"))# Check if the number is even or odd\n",
    "if num % 2 == 0:\n",
    "     print(f\"{num} is an even number.\")\n",
    "else:\n",
    "    print(f\"{num} is an odd number.\")"
   ]
  },
  {
   "cell_type": "markdown",
   "metadata": {},
   "source": [
    " 2. Write a program that asks the user to enter a number and checks whether it is positive, negative, or zero."
   ]
  },
  {
   "cell_type": "code",
   "execution_count": 2,
   "metadata": {},
   "outputs": [
    {
     "name": "stdout",
     "output_type": "stream",
     "text": [
      "The number is positive.\n"
     ]
    }
   ],
   "source": [
    "# Input number from the user\n",
    "num = float(input(\"Enter a number: \"))\n",
    "\n",
    "# Conditional statements to check the number\n",
    "if num > 0:\n",
    "    print(\"The number is positive.\")\n",
    "elif num < 0:\n",
    "    print(\"The number is negative.\")\n",
    "else:\n",
    "    print(\"The number is zero.\")"
   ]
  },
  {
   "cell_type": "markdown",
   "metadata": {},
   "source": [
    "3. Write a program that asks the user to enter their age and checks if they are eligible to vote (18 years or older)."
   ]
  },
  {
   "cell_type": "code",
   "execution_count": 3,
   "metadata": {},
   "outputs": [
    {
     "name": "stdout",
     "output_type": "stream",
     "text": [
      "You are eligible to vote!\n"
     ]
    }
   ],
   "source": [
    "# Ask the user for their age\n",
    "age = int(input(\"Enter your age: \"))\n",
    "\n",
    "# Check if the user is eligible to vote\n",
    "if age >= 18:\n",
    "    print(\"You are eligible to vote!\")\n",
    "else:\n",
    "    print(\"Sorry, you are not eligible to vote.\")"
   ]
  },
  {
   "cell_type": "markdown",
   "metadata": {},
   "source": [
    "4. Write a program that takes the lengths of three sides of a triangle as input and determines if the triangle is:\n",
    " ○ Equilateral (all sides are equal)\n",
    " ○ Isosceles (two sides are equal)\n",
    " ○ Scalene (all sides are different)"
   ]
  },
  {
   "cell_type": "code",
   "execution_count": 4,
   "metadata": {},
   "outputs": [
    {
     "name": "stdout",
     "output_type": "stream",
     "text": [
      "The triangle is Equilateral.\n"
     ]
    }
   ],
   "source": [
    "# Take input for the three sides of the triangle\n",
    "side1 = float(input(\"Enter the length of the first side: \"))\n",
    "side2 = float(input(\"Enter the length of the second side: \"))\n",
    "side3 = float(input(\"Enter the length of the third side: \"))\n",
    "\n",
    "# Check if the sides form a valid triangle\n",
    "if side1 <= 0 or side2 <= 0 or side3 <= 0:\n",
    "    print(\"The sides of a triangle must be positive values.\")\n",
    "else:\n",
    "    # Determine the type of triangle based on the sides\n",
    "    if side1 == side2 == side3:\n",
    "        print(\"The triangle is Equilateral.\")\n",
    "    elif side1 == side2 or side2 == side3 or side1 == side3:\n",
    "        print(\"The triangle is Isosceles.\")\n",
    "    else:\n",
    "        print(\"The triangle is Scalene.\")"
   ]
  },
  {
   "cell_type": "markdown",
   "metadata": {},
   "source": [
    " 5. Write a program that asks the user to enter a password and checks if it matches a predefined password (e.g., \"Python123\")."
   ]
  },
  {
   "cell_type": "code",
   "execution_count": 5,
   "metadata": {},
   "outputs": [
    {
     "name": "stdout",
     "output_type": "stream",
     "text": [
      "Access granted!\n"
     ]
    }
   ],
   "source": [
    "# Predefined password\n",
    "correct_password = \"Python123\"\n",
    "\n",
    "# Ask the user to enter the password\n",
    "user_password = input(\"Enter the password: \")\n",
    "\n",
    "# Check if the entered password matches the predefined password\n",
    "if user_password == correct_password:\n",
    "    print(\"Access granted!\")\n",
    "else:\n",
    "    print(\"Incorrect password. Access denied.\")"
   ]
  },
  {
   "cell_type": "markdown",
   "metadata": {},
   "source": [
    "LOOP\n",
    "6. Multiplication Table: Write a Python program to print the multiplication table of a given number using a for loop.\n"
   ]
  },
  {
   "cell_type": "code",
   "execution_count": 6,
   "metadata": {},
   "outputs": [
    {
     "name": "stdout",
     "output_type": "stream",
     "text": [
      "Multiplication table of 12:\n",
      "12, 24, 36, 48, 60, 72, 84, 96, 108, 120\n"
     ]
    }
   ],
   "source": [
    "# Ask the user for a number\n",
    "number = int(input(\"Enter a number to print its multiplication table: \"))\n",
    "\n",
    "# Print the multiplication table from 1 to 10\n",
    "print(f\"Multiplication table of {number}:\")\n",
    "for i in range(1, 11):\n",
    "    print(number * i, end=\", \" if i < 10 else \"\\n\")"
   ]
  },
  {
   "cell_type": "markdown",
   "metadata": {},
   "source": [
    " 7. Count Vowels: Write a program to count and display the number of vowels in a given string"
   ]
  },
  {
   "cell_type": "code",
   "execution_count": 7,
   "metadata": {},
   "outputs": [
    {
     "name": "stdout",
     "output_type": "stream",
     "text": [
      "Number of vowels in the string: 5\n"
     ]
    }
   ],
   "source": [
    "# Ask the user for a string\n",
    "input_string = input(\"Enter a string: \")\n",
    "\n",
    "# Define the vowels\n",
    "vowels = \"aeiouAEIOU\"\n",
    "\n",
    "# Initialize the vowel count to 0\n",
    "vowel_count = 0\n",
    "\n",
    "# Loop through each character in the string\n",
    "for char in input_string:\n",
    "    if char in vowels:\n",
    "        vowel_count += 1\n",
    "\n",
    "# Display the result\n",
    "print(f\"Number of vowels in the string: {vowel_count}\")"
   ]
  },
  {
   "cell_type": "markdown",
   "metadata": {},
   "source": [
    "8. Sum of Even Numbers Create a program to find the sum of all even numbers in a list using a for loop."
   ]
  },
  {
   "cell_type": "code",
   "execution_count": 8,
   "metadata": {},
   "outputs": [
    {
     "name": "stdout",
     "output_type": "stream",
     "text": [
      "Sum of all even numbers in the list: 30\n"
     ]
    }
   ],
   "source": [
    "# Define a list of numbers (you can modify this list)\n",
    "numbers = [1, 2, 3, 4, 5, 6, 7, 8, 9, 10]\n",
    "\n",
    "# Initialize the sum of even numbers to 0\n",
    "even_sum = 0\n",
    "\n",
    "# Loop through each number in the list\n",
    "for num in numbers:\n",
    "    if num % 2 == 0:  # Check if the number is even\n",
    "        even_sum += num  # Add the even number to the sum\n",
    "\n",
    "# Display the result\n",
    "print(f\"Sum of all even numbers in the list: {even_sum}\")"
   ]
  },
  {
   "cell_type": "markdown",
   "metadata": {},
   "source": [
    " 9. Create a program to find the largest and smallest numbers in a list using a for loop"
   ]
  },
  {
   "cell_type": "code",
   "execution_count": 9,
   "metadata": {},
   "outputs": [
    {
     "name": "stdout",
     "output_type": "stream",
     "text": [
      "Largest number in the list: 19\n",
      "Smallest number in the list: 1\n"
     ]
    }
   ],
   "source": [
    "# Define a list of numbers (you can modify this list)\n",
    "numbers = [12, 5, 8, 3, 19, 1, 7, 15]\n",
    "\n",
    "# Initialize the largest and smallest numbers to the first element of the list\n",
    "largest = numbers[0]\n",
    "smallest = numbers[0]\n",
    "\n",
    "# Loop through each number in the list\n",
    "for num in numbers:\n",
    "    if num > largest:\n",
    "        largest = num  # Update largest number\n",
    "    if num < smallest:\n",
    "        smallest = num  # Update smallest number\n",
    "\n",
    "# Display the results\n",
    "print(f\"Largest number in the list: {largest}\")\n",
    "print(f\"Smallest number in the list: {smallest}\")"
   ]
  },
  {
   "cell_type": "markdown",
   "metadata": {},
   "source": [
    " 10. Write a program to calculate the sum of digits of a given number using a for loop."
   ]
  },
  {
   "cell_type": "code",
   "execution_count": 13,
   "metadata": {},
   "outputs": [
    {
     "name": "stdout",
     "output_type": "stream",
     "text": [
      "The sum of the digits of 1234 is: 10\n"
     ]
    }
   ],
   "source": [
    "# Ask the user for a number\n",
    "number = input(\"Enter a number: \")\n",
    "\n",
    "# Initialize the sum of digits to 0\n",
    "digit_sum = 0\n",
    "\n",
    "# Loop through each character in the string representation of the number\n",
    "for digit in number:\n",
    "    if digit.isdigit():  # Ensure that the character is a digit\n",
    "        digit_sum += int(digit)  # Convert the digit to an integer and add it to the sum\n",
    "\n",
    "# Display the result\n",
    "print(f\"The sum of the digits of {number} is: {digit_sum}\")"
   ]
  },
  {
   "cell_type": "markdown",
   "metadata": {},
   "source": [
    "11. Write a program to reverse a given string using a for loop."
   ]
  },
  {
   "cell_type": "code",
   "execution_count": 12,
   "metadata": {},
   "outputs": [
    {
     "name": "stdout",
     "output_type": "stream",
     "text": [
      "The reversed string is: nohtyp\n"
     ]
    }
   ],
   "source": [
    "# Ask the user for a string\n",
    "input_string = input(\"Enter a string: \")\n",
    "\n",
    "# Initialize an empty string to store the reversed string\n",
    "reversed_string = \"\"\n",
    "\n",
    "# Loop through the string in reverse order\n",
    "for i in range(len(input_string) - 1, -1, -1):\n",
    "    reversed_string += input_string[i]  # Append each character in reverse order\n",
    "\n",
    "# Display the reversed string\n",
    "print(f\"The reversed string is: {reversed_string}\")"
   ]
  },
  {
   "cell_type": "markdown",
   "metadata": {},
   "source": [
    "PYTHON\n",
    "1. Factorial Function: Write a function factorial(n) that returns the factorial of a number using a for loop."
   ]
  },
  {
   "cell_type": "code",
   "execution_count": 14,
   "metadata": {},
   "outputs": [
    {
     "name": "stdout",
     "output_type": "stream",
     "text": [
      "The factorial of 3 is: 6\n"
     ]
    }
   ],
   "source": [
    "# Define the factorial function\n",
    "def factorial(n):\n",
    "    # Initialize the result to 1 (since factorial of 0 is 1)\n",
    "    result = 1\n",
    "    \n",
    "    # Loop through all numbers from 1 to n\n",
    "    for i in range(1, n + 1):\n",
    "        result *= i  # Multiply result by each number\n",
    "    \n",
    "    return result\n",
    "\n",
    "# Ask the user for a number\n",
    "number = int(input(\"Enter a number to find its factorial: \"))\n",
    "\n",
    "# Calculate the factorial of the number\n",
    "fact = factorial(number)\n",
    "\n",
    "# Display the result\n",
    "print(f\"The factorial of {number} is: {fact}\")"
   ]
  },
  {
   "cell_type": "markdown",
   "metadata": {},
   "source": [
    " 2. Prime Check Function: Create a function is_prime(n) to check whether a number is prime."
   ]
  },
  {
   "cell_type": "code",
   "execution_count": 15,
   "metadata": {},
   "outputs": [
    {
     "name": "stdout",
     "output_type": "stream",
     "text": [
      "7 is a prime number.\n"
     ]
    }
   ],
   "source": [
    "# Define the function to check if a number is prime\n",
    "def is_prime(n):\n",
    "    # Check for edge cases where numbers less than or equal to 1 are not prime\n",
    "    if n <= 1:\n",
    "        return False\n",
    "    # Check for divisibility from 2 to the square root of n\n",
    "    for i in range(2, int(n ** 0.5) + 1):\n",
    "        if n % i == 0:  # If divisible, then it's not prime\n",
    "            return False\n",
    "    return True  # If no divisors were found, the number is prime\n",
    "\n",
    "# Ask the user for a number\n",
    "number = int(input(\"Enter a number to check if it's prime: \"))\n",
    "\n",
    "# Check if the number is prime and display the result\n",
    "if is_prime(number):\n",
    "    print(f\"{number} is a prime number.\")\n",
    "else:\n",
    "    print(f\"{number} is not a prime number.\")"
   ]
  },
  {
   "cell_type": "markdown",
   "metadata": {},
   "source": [
    "3. Find Maximum in List:Write a function find_max(lst) to find and return the maximum value in a list."
   ]
  },
  {
   "cell_type": "code",
   "execution_count": 16,
   "metadata": {},
   "outputs": [
    {
     "name": "stdout",
     "output_type": "stream",
     "text": [
      "The maximum value in the list is: 9\n"
     ]
    }
   ],
   "source": [
    "# Define the function to find the maximum value in a list\n",
    "def find_max(lst):\n",
    "    # Initialize the first element as the maximum value\n",
    "    max_value = lst[0]\n",
    "    \n",
    "    # Loop through the list and update the maximum value\n",
    "    for num in lst:\n",
    "        if num > max_value:\n",
    "            max_value = num\n",
    "    \n",
    "    return max_value\n",
    "\n",
    "# Example usage:\n",
    "numbers = [5, 3, 9, 1, 7, 8]\n",
    "max_num = find_max(numbers)\n",
    "\n",
    "# Display the result\n",
    "print(f\"The maximum value in the list is: {max_num}\")"
   ]
  },
  {
   "cell_type": "markdown",
   "metadata": {},
   "source": [
    " 4. Write a function palindrome_check(string) that returns True if the given string is a palindrome, otherwise False."
   ]
  },
  {
   "cell_type": "code",
   "execution_count": 17,
   "metadata": {},
   "outputs": [
    {
     "name": "stdout",
     "output_type": "stream",
     "text": [
      "'radar' is a palindrome.\n"
     ]
    }
   ],
   "source": [
    "# Define the function to check if a string is a palindrome\n",
    "def palindrome_check(string):\n",
    "    # Remove spaces and convert to lowercase to handle cases like \"A man a plan a canal Panama\"\n",
    "    cleaned_string = string.replace(\" \", \"\").lower()\n",
    "\n",
    "    # Compare the string with its reverse\n",
    "    if cleaned_string == cleaned_string[::-1]:\n",
    "        return True\n",
    "    else:\n",
    "        return False\n",
    "\n",
    "# Example usage:\n",
    "input_string = input(\"Enter a string to check if it's a palindrome: \")\n",
    "\n",
    "# Check if the string is a palindrome\n",
    "if palindrome_check(input_string):\n",
    "    print(f\"'{input_string}' is a palindrome.\")\n",
    "else:\n",
    "    print(f\"'{input_string}' is not a palindrome.\")"
   ]
  },
  {
   "cell_type": "markdown",
   "metadata": {},
   "source": [
    "5. Write a function sum_of_squares(n) that returns the sum of squares of the first n natural numbers."
   ]
  },
  {
   "cell_type": "code",
   "execution_count": 18,
   "metadata": {},
   "outputs": [
    {
     "name": "stdout",
     "output_type": "stream",
     "text": [
      "The sum of squares of the first 2 natural numbers is: 5\n"
     ]
    }
   ],
   "source": [
    "# Define the function to calculate the sum of squares of the first n natural numbers\n",
    "def sum_of_squares(n):\n",
    "    # Initialize the sum to 0\n",
    "    total_sum = 0\n",
    "    \n",
    "    # Loop through the first n numbers and calculate the sum of squares\n",
    "    for i in range(1, n + 1):\n",
    "        total_sum += i ** 2  # Add the square of i to the total sum\n",
    "    \n",
    "    return total_sum\n",
    "\n",
    "# Example usage:\n",
    "n = int(input(\"Enter a number to calculate the sum of squares of the first n natural numbers: \"))\n",
    "\n",
    "# Get the sum of squares\n",
    "result = sum_of_squares(n)\n",
    "\n",
    "# Display the result\n",
    "print(f\"The sum of squares of the first {n} natural numbers is: {result}\")"
   ]
  },
  {
   "cell_type": "markdown",
   "metadata": {},
   "source": [
    " 6. Write a function sum_of_squares(n) that returns the sum of squares of the first n natural numbers."
   ]
  },
  {
   "cell_type": "code",
   "execution_count": 21,
   "metadata": {},
   "outputs": [
    {
     "name": "stdout",
     "output_type": "stream",
     "text": [
      "The sum of squares of the first 3 natural numbers is: 14\n"
     ]
    }
   ],
   "source": [
    "# Define the function to calculate the sum of squares of the first n natural numbers\n",
    "def sum_of_squares(n):\n",
    "    # Initialize the sum to 0\n",
    "    total_sum = 0\n",
    "    \n",
    "    # Loop through the first n numbers and calculate the sum of squares\n",
    "    for i in range(1, n + 1):\n",
    "        total_sum += i ** 2  # Add the square of i to the total sum\n",
    "    \n",
    "    return total_sum\n",
    "# Example usage:\n",
    "n = int(input(\"Enter a number to calculate the sum of squares of the first n natural numbers: \"))\n",
    "\n",
    "# Get the sum of squares\n",
    "result = sum_of_squares(n)\n",
    "\n",
    "# Display the result\n",
    "print(f\"The sum of squares of the first {n} natural numbers is: {result}\")"
   ]
  },
  {
   "cell_type": "markdown",
   "metadata": {},
   "source": [
    "CLASSES\n",
    " 1. Rectangle Class:Define a class Rectangle with:\n",
    " ○ Two attributes: length and width.\n",
    " ○ A method area() to calculate the area.\n",
    " ○ A method perimeter() to calculate the perimeter."
   ]
  },
  {
   "cell_type": "code",
   "execution_count": 22,
   "metadata": {},
   "outputs": [
    {
     "name": "stdout",
     "output_type": "stream",
     "text": [
      "The area of the rectangle is: 9.0\n",
      "The perimeter of the rectangle is: 12.0\n"
     ]
    }
   ],
   "source": [
    "class Rectangle:\n",
    "    # Constructor to initialize length and width\n",
    "    def __init__(self, length, width):\n",
    "        self.length = length\n",
    "        self.width = width\n",
    "\n",
    "    # Method to calculate the area of the rectangle\n",
    "    def area(self):\n",
    "        return self.length * self.width\n",
    "\n",
    "    # Method to calculate the perimeter of the rectangle\n",
    "    def perimeter(self):\n",
    "        return 2 * (self.length + self.width)\n",
    "\n",
    "# Example usage:\n",
    "# Create an instance of Rectangle\n",
    "length = float(input(\"Enter the length of the rectangle: \"))\n",
    "width = float(input(\"Enter the width of the rectangle: \"))\n",
    "rectangle = Rectangle(length, width)\n",
    "\n",
    "# Calculate and display the area and perimeter\n",
    "print(f\"The area of the rectangle is: {rectangle.area()}\")\n",
    "print(f\"The perimeter of the rectangle is: {rectangle.perimeter()}\")"
   ]
  },
  {
   "cell_type": "markdown",
   "metadata": {},
   "source": [
    " 2. Student Class: Create a class Student with:\n",
    " ○ Attributes: name, roll_number, and marks.\n",
    " ○ A method display_details() to print the student's details.\n",
    " ○ A method is_passed() that returns True if marks ≥ 40, else False"
   ]
  },
  {
   "cell_type": "code",
   "execution_count": 23,
   "metadata": {},
   "outputs": [
    {
     "name": "stdout",
     "output_type": "stream",
     "text": [
      "Student Name: kshitiz\n",
      "Roll Number: 10\n",
      "Marks: 95.0\n",
      "kshitiz has passed.\n"
     ]
    }
   ],
   "source": [
    "# Define the Student class\n",
    "class Student:\n",
    "    # Constructor to initialize name, roll_number, and marks\n",
    "    def __init__(self, name, roll_number, marks):\n",
    "        self.name = name\n",
    "        self.roll_number = roll_number\n",
    "        self.marks = marks\n",
    "\n",
    "    # Method to display the student's details\n",
    "    def display_details(self):\n",
    "        print(f\"Student Name: {self.name}\")\n",
    "        print(f\"Roll Number: {self.roll_number}\")\n",
    "        print(f\"Marks: {self.marks}\")\n",
    "\n",
    "    # Method to check if the student has passed\n",
    "    def is_passed(self):\n",
    "        if self.marks >= 40:\n",
    "            return True\n",
    "        else:\n",
    "            return False\n",
    "\n",
    "# Example usage:\n",
    "# Create an instance of the Student class\n",
    "name = input(\"Enter student's name: \")\n",
    "roll_number = input(\"Enter student's roll number: \")\n",
    "marks = float(input(\"Enter student's marks: \"))\n",
    "\n",
    "student = Student(name, roll_number, marks)\n",
    "\n",
    "# Display the student's details\n",
    "student.display_details()\n",
    "\n",
    "# Check if the student has passed and display the result\n",
    "if student.is_passed():\n",
    "    print(f\"{student.name} has passed.\")\n",
    "else:\n",
    "    print(f\"{student.name} has failed.\")"
   ]
  },
  {
   "cell_type": "markdown",
   "metadata": {},
   "source": [
    " 3. Define a class Circle with:\n",
    " ● Attribute: radius.\n",
    " ● Methods: area() to calculate the area, circumference() to\n",
    " calculate the circumference"
   ]
  },
  {
   "cell_type": "code",
   "execution_count": 24,
   "metadata": {},
   "outputs": [
    {
     "name": "stdout",
     "output_type": "stream",
     "text": [
      "The area of the circle is: 314.16\n",
      "The circumference of the circle is: 62.83\n"
     ]
    }
   ],
   "source": [
    "import math\n",
    "\n",
    "# Define the Circle class\n",
    "class Circle:\n",
    "    # Constructor to initialize the radius\n",
    "    def __init__(self, radius):\n",
    "        self.radius = radius\n",
    "\n",
    "    # Method to calculate the area of the circle\n",
    "    def area(self):\n",
    "        return math.pi * self.radius ** 2\n",
    "\n",
    "    # Method to calculate the circumference of the circle\n",
    "    def circumference(self):\n",
    "        return 2 * math.pi * self.radius\n",
    "\n",
    "# Example usage:\n",
    "# Create an instance of the Circle class\n",
    "radius = float(input(\"Enter the radius of the circle: \"))\n",
    "\n",
    "circle = Circle(radius)\n",
    "\n",
    "# Calculate and display the area and circumference\n",
    "print(f\"The area of the circle is: {circle.area():.2f}\")\n",
    "print(f\"The circumference of the circle is: {circle.circumference():.2f}\")"
   ]
  },
  {
   "cell_type": "markdown",
   "metadata": {},
   "source": [
    " 4. Create a class BankAccount with:\n",
    " ● Attributes: account_number, account_holder, balance.\n",
    " ● Methods:\n",
    " ○ deposit(amount) to add money to the account.\n",
    "○ withdraw(amount) to subtract money (if sufficient\n",
    " balance is available).\n",
    " ○ display_balance() to print the current balance."
   ]
  },
  {
   "cell_type": "code",
   "execution_count": 25,
   "metadata": {},
   "outputs": [
    {
     "name": "stdout",
     "output_type": "stream",
     "text": [
      "Current balance: 100000000.0\n",
      "Deposited 200000.0. Current balance: 100200000.0\n",
      "Withdrew 300000.0. Current balance: 99900000.0\n",
      "Current balance: 99900000.0\n"
     ]
    }
   ],
   "source": [
    "# Define the BankAccount class\n",
    "class BankAccount:\n",
    "    # Constructor to initialize account_number, account_holder, and balance\n",
    "    def __init__(self, account_number, account_holder, balance=0):\n",
    "        self.account_number = account_number\n",
    "        self.account_holder = account_holder\n",
    "        self.balance = balance\n",
    "\n",
    "    # Method to deposit money into the account\n",
    "    def deposit(self, amount):\n",
    "        if amount > 0:\n",
    "            self.balance += amount\n",
    "            print(f\"Deposited {amount}. Current balance: {self.balance}\")\n",
    "        else:\n",
    "            print(\"Deposit amount must be greater than zero.\")\n",
    "\n",
    "    # Method to withdraw money from the account\n",
    "    def withdraw(self, amount):\n",
    "        if amount > 0:\n",
    "            if self.balance >= amount:\n",
    "                self.balance -= amount\n",
    "                print(f\"Withdrew {amount}. Current balance: {self.balance}\")\n",
    "            else:\n",
    "                print(\"Insufficient balance.\")\n",
    "        else:\n",
    "            print(\"Withdrawal amount must be greater than zero.\")\n",
    "\n",
    "    # Method to display the current balance\n",
    "    def display_balance(self):\n",
    "        print(f\"Current balance: {self.balance}\")\n",
    "\n",
    "# Example usage:\n",
    "# Create a BankAccount instance\n",
    "account_number = input(\"Enter the account number: \")\n",
    "account_holder = input(\"Enter the account holder's name: \")\n",
    "balance = float(input(\"Enter the initial balance: \"))\n",
    "\n",
    "# Create the bank account object\n",
    "account = BankAccount(account_number, account_holder, balance)\n",
    "\n",
    "# Display the current balance\n",
    "account.display_balance()\n",
    "\n",
    "# Perform a deposit\n",
    "deposit_amount = float(input(\"Enter amount to deposit: \"))\n",
    "account.deposit(deposit_amount)\n",
    "\n",
    "# Perform a withdrawal\n",
    "withdraw_amount = float(input(\"Enter amount to withdraw: \"))\n",
    "account.withdraw(withdraw_amount)\n",
    "\n",
    "# Display the updated balance\n",
    "account.display_balance()"
   ]
  },
  {
   "cell_type": "markdown",
   "metadata": {},
   "source": [
    " 5. A class Book with:\n",
    " ● Attributes: title, author, price.\n",
    " ● Methods:\n",
    " ○ apply_discount(discount) to reduce the price by a\n",
    " given percentage.\n",
    " ○ display_details() to print the book details."
   ]
  },
  {
   "cell_type": "code",
   "execution_count": 26,
   "metadata": {},
   "outputs": [
    {
     "name": "stdout",
     "output_type": "stream",
     "text": [
      "Book Title: wimpy kids\n",
      "Author: jay\n",
      "Price: 1000.00\n",
      "Discount of 5.0% applied. New price: 950.00\n",
      "Book Title: wimpy kids\n",
      "Author: jay\n",
      "Price: 950.00\n"
     ]
    }
   ],
   "source": [
    "# Define the Book class\n",
    "class Book:\n",
    "    # Constructor to initialize title, author, and price\n",
    "    def __init__(self, title, author, price):\n",
    "        self.title = title\n",
    "        self.author = author\n",
    "        self.price = price\n",
    "\n",
    "    # Method to apply discount to the price\n",
    "    def apply_discount(self, discount):\n",
    "        if 0 < discount < 100:\n",
    "            discount_amount = (discount / 100) * self.price\n",
    "            self.price -= discount_amount\n",
    "            print(f\"Discount of {discount}% applied. New price: {self.price:.2f}\")\n",
    "        else:\n",
    "            print(\"Discount must be a positive value less than 100.\")\n",
    "\n",
    "    # Method to display the book details\n",
    "    def display_details(self):\n",
    "        print(f\"Book Title: {self.title}\")\n",
    "        print(f\"Author: {self.author}\")\n",
    "        print(f\"Price: {self.price:.2f}\")\n",
    "\n",
    "# Example usage:\n",
    "# Create an instance of the Book class\n",
    "title = input(\"Enter the book title: \")\n",
    "author = input(\"Enter the author's name: \")\n",
    "price = float(input(\"Enter the price of the book: \"))\n",
    "\n",
    "# Create the book object\n",
    "book = Book(title, author, price)\n",
    "\n",
    "# Display the book details\n",
    "book.display_details()\n",
    "\n",
    "# Apply a discount to the book's price\n",
    "discount = float(input(\"Enter the discount percentage: \"))\n",
    "book.apply_discount(discount)\n",
    "\n",
    "# Display the updated book details\n",
    "book.display_details()\n"
   ]
  },
  {
   "cell_type": "markdown",
   "metadata": {},
   "source": [
    " 6. Create a class Calculator with:\n",
    " ○ A method add(a, b) to add two numbers.\n",
    " ○ A method subtract(a, b) to subtract two numbers.\n",
    " ○ A method multiply(a, b) to multiply two numbers.\n",
    " ○ A method divide(a, b) to divide two numbers (handle division\n",
    " by zero gracefully)."
   ]
  },
  {
   "cell_type": "code",
   "execution_count": 27,
   "metadata": {},
   "outputs": [
    {
     "name": "stdout",
     "output_type": "stream",
     "text": [
      "12.0 + 21.0 = 33.0\n",
      "12.0 - 21.0 = -9.0\n",
      "12.0 * 21.0 = 252.0\n",
      "12.0 / 21.0 = 0.5714285714285714\n"
     ]
    }
   ],
   "source": [
    "# Define the Calculator class\n",
    "class Calculator:\n",
    "    # Method to add two numbers\n",
    "    def add(self, a, b):\n",
    "        return a + b\n",
    "\n",
    "    # Method to subtract two numbers\n",
    "    def subtract(self, a, b):\n",
    "        return a - b\n",
    "\n",
    "    # Method to multiply two numbers\n",
    "    def multiply(self, a, b):\n",
    "        return a * b\n",
    "\n",
    "    # Method to divide two numbers, handling division by zero\n",
    "    def divide(self, a, b):\n",
    "        if b == 0:\n",
    "            return \"Error: Division by zero is not allowed.\"\n",
    "        else:\n",
    "            return a / b\n",
    "\n",
    "# Example usage:\n",
    "# Create an instance of the Calculator class\n",
    "calculator = Calculator()\n",
    "\n",
    "# Perform addition\n",
    "a = float(input(\"Enter first number: \"))\n",
    "b = float(input(\"Enter second number: \"))\n",
    "print(f\"{a} + {b} = {calculator.add(a, b)}\")\n",
    "\n",
    "# Perform subtraction\n",
    "print(f\"{a} - {b} = {calculator.subtract(a, b)}\")\n",
    "\n",
    "# Perform multiplication\n",
    "print(f\"{a} * {b} = {calculator.multiply(a, b)}\")\n",
    "\n",
    "# Perform division\n",
    "result = calculator.divide(a, b)\n",
    "print(f\"{a} / {b} = {result}\")\n"
   ]
  },
  {
   "cell_type": "markdown",
   "metadata": {},
   "source": [
    " 7. Write a class Person with:\n",
    " ○ Attributes: name, age, gender.\n",
    " ○ Method introduce() to print a message like: \"Hello, my name\n",
    " is [name], I am [age] years old, and I am a [gender].\"\n",
    " ○ Create a subclass Employee that adds:\n",
    " ■ Attribute: job_title.\n",
    " ■ Override introduce() to include the job title.\n"
   ]
  },
  {
   "cell_type": "code",
   "execution_count": 28,
   "metadata": {},
   "outputs": [
    {
     "name": "stdout",
     "output_type": "stream",
     "text": [
      "Hello, my name is John, I am 30 years old, and I am a Male.\n",
      "Hello, my name is Alice, I am 28 years old, I am a Female, and I work as a Software Developer.\n"
     ]
    }
   ],
   "source": [
    "# Define the Person class\n",
    "class Person:\n",
    "    # Constructor to initialize name, age, and gender\n",
    "    def __init__(self, name, age, gender):\n",
    "        self.name = name\n",
    "        self.age = age\n",
    "        self.gender = gender\n",
    "\n",
    "    # Method to introduce the person\n",
    "    def introduce(self):\n",
    "        print(f\"Hello, my name is {self.name}, I am {self.age} years old, and I am a {self.gender}.\")\n",
    "\n",
    "# Define the Employee subclass that extends Person\n",
    "class Employee(Person):\n",
    "    # Constructor to initialize name, age, gender, and job_title\n",
    "    def __init__(self, name, age, gender, job_title):\n",
    "        # Call the parent class constructor to initialize the inherited attributes\n",
    "        super().__init__(name, age, gender)\n",
    "        self.job_title = job_title\n",
    "\n",
    "    # Override the introduce method to include job title\n",
    "    def introduce(self):\n",
    "        print(f\"Hello, my name is {self.name}, I am {self.age} years old, I am a {self.gender}, and I work as a {self.job_title}.\")\n",
    "\n",
    "# Example usage:\n",
    "# Create a Person object\n",
    "person = Person(\"John\", 30, \"Male\")\n",
    "person.introduce()\n",
    "\n",
    "# Create an Employee object\n",
    "employee = Employee(\"Alice\", 28, \"Female\", \"Software Developer\")\n",
    "employee.introduce()\n"
   ]
  },
  {
   "cell_type": "markdown",
   "metadata": {},
   "source": [
    "FILE HANDLING\n",
    "1. File Creation and Writing: Write a Python script to:\n",
    " ○ Create a file named data.txt.\n",
    " ○ Write the numbers from 1 to 10 (each on a new line) to the\n",
    " file.\n",
    " ○ Read the file and print its contents.\n"
   ]
  },
  {
   "cell_type": "code",
   "execution_count": 29,
   "metadata": {},
   "outputs": [
    {
     "name": "stdout",
     "output_type": "stream",
     "text": [
      "1\n",
      "2\n",
      "3\n",
      "4\n",
      "5\n",
      "6\n",
      "7\n",
      "8\n",
      "9\n",
      "10\n",
      "\n"
     ]
    }
   ],
   "source": [
    "# Create and open the file 'data.txt' in write mode\n",
    "with open(\"data.txt\", \"w\") as file:\n",
    "    # Write numbers from 1 to 10 to the file, each on a new line\n",
    "    for number in range(1, 11):\n",
    "        file.write(f\"{number}\\n\")\n",
    "\n",
    "# Open the file 'data.txt' in read mode and print its contents\n",
    "with open(\"data.txt\", \"r\") as file:\n",
    "    contents = file.read()\n",
    "    print(contents)\n"
   ]
  },
  {
   "cell_type": "markdown",
   "metadata": {},
   "source": [
    "2. Word Count in File: Write a program that reads a file named\n",
    " sample.txt, counts the number of words in it, and prints the\n",
    " result."
   ]
  },
  {
   "cell_type": "code",
   "execution_count": 30,
   "metadata": {},
   "outputs": [
    {
     "name": "stdout",
     "output_type": "stream",
     "text": [
      "The file 'sample.txt' was not found.\n"
     ]
    }
   ],
   "source": [
    "# Open the file 'sample.txt' in read mode\n",
    "try:\n",
    "    with open(\"sample.txt\", \"r\") as file:\n",
    "        # Read the contents of the file\n",
    "        contents = file.read()\n",
    "\n",
    "        # Split the contents into words using whitespace as the delimiter\n",
    "        words = contents.split()\n",
    "\n",
    "        # Count the number of words\n",
    "        word_count = len(words)\n",
    "\n",
    "        # Print the word count\n",
    "        print(f\"The number of words in the file is: {word_count}\")\n",
    "\n",
    "except FileNotFoundError:\n",
    "    print(\"The file 'sample.txt' was not found.\")\n"
   ]
  },
  {
   "cell_type": "markdown",
   "metadata": {},
   "source": [
    "ERROR HANDLING\n",
    "1. Division with Error Handling: Write a program that takes two numbers as input and divides the first number by the second.\n",
    " ○ Use try and except to handle the division by zero error."
   ]
  },
  {
   "cell_type": "code",
   "execution_count": 32,
   "metadata": {},
   "outputs": [
    {
     "name": "stdout",
     "output_type": "stream",
     "text": [
      "The result of 4.0 divided by 2.0 is: 2.0\n"
     ]
    }
   ],
   "source": [
    "# Function to perform division with error handling\n",
    "def divide_numbers():\n",
    "    try:\n",
    "        # Take two numbers as input from the user\n",
    "        num1 = float(input(\"Enter the first number: \"))\n",
    "        num2 = float(input(\"Enter the second number: \"))\n",
    "\n",
    "        # Attempt to divide num1 by num2\n",
    "        result = num1 / num2\n",
    "        print(f\"The result of {num1} divided by {num2} is: {result}\")\n",
    "    \n",
    "    except ZeroDivisionError:\n",
    "        # Handle division by zero error\n",
    "        print(\"Error: Division by zero is not allowed.\")\n",
    "    \n",
    "    except ValueError:\n",
    "        # Handle the case where the input is not a number\n",
    "        print(\"Error: Please enter valid numbers.\")\n",
    "    \n",
    "# Call the function\n",
    "divide_numbers()"
   ]
  },
  {
   "cell_type": "markdown",
   "metadata": {},
   "source": [
    "2. Integer Input Validation: Create a program that asks the user to input an integer.\n",
    " ○ Use try, except, and else to handle invalid input.\n",
    " Example:\n",
    " ○ Input: abc\n",
    " ○ Output: \"Invalid input, please enter an integer.\""
   ]
  },
  {
   "cell_type": "code",
   "execution_count": 33,
   "metadata": {},
   "outputs": [
    {
     "name": "stdout",
     "output_type": "stream",
     "text": [
      "Invalid input, please enter an integer.\n"
     ]
    }
   ],
   "source": [
    "# Function to validate integer input\n",
    "def get_integer_input():\n",
    "    try:\n",
    "        # Ask the user to input an integer\n",
    "        user_input = input(\"Please enter an integer: \")\n",
    "        \n",
    "        # Try to convert the input to an integer\n",
    "        user_integer = int(user_input)\n",
    "    \n",
    "    except ValueError:\n",
    "        # Handle invalid input that cannot be converted to an integer\n",
    "        print(\"Invalid input, please enter an integer.\")\n",
    "    \n",
    "    else:\n",
    "        # If no error occurs, print the valid integer input\n",
    "        print(f\"You entered the valid integer: {user_integer}\")\n",
    "\n",
    "# Call the function\n",
    "get_integer_input()\n"
   ]
  },
  {
   "cell_type": "markdown",
   "metadata": {},
   "source": [
    "3. File Not Found Error Handling: Write a script that:\n",
    "○ Opens a file named unknown.txt.\n",
    " ○ Handles the FileNotFoundError gracefully and prints an\n",
    " appropriate message"
   ]
  },
  {
   "cell_type": "code",
   "execution_count": 34,
   "metadata": {},
   "outputs": [
    {
     "name": "stdout",
     "output_type": "stream",
     "text": [
      "Error: The file 'unknown.txt' was not found.\n"
     ]
    }
   ],
   "source": [
    "# Script to handle FileNotFoundError\n",
    "try:\n",
    "    # Attempt to open the file 'unknown.txt' in read mode\n",
    "    with open(\"unknown.txt\", \"r\") as file:\n",
    "        # Read and print the contents of the file\n",
    "        contents = file.read()\n",
    "        print(contents)\n",
    "\n",
    "except FileNotFoundError:\n",
    "    # Handle the error if the file is not found\n",
    "    print(\"Error: The file 'unknown.txt' was not found.\")\n"
   ]
  },
  {
   "cell_type": "markdown",
   "metadata": {},
   "source": []
  }
 ],
 "metadata": {
  "kernelspec": {
   "display_name": "Python 3",
   "language": "python",
   "name": "python3"
  },
  "language_info": {
   "codemirror_mode": {
    "name": "ipython",
    "version": 3
   },
   "file_extension": ".py",
   "mimetype": "text/x-python",
   "name": "python",
   "nbconvert_exporter": "python",
   "pygments_lexer": "ipython3",
   "version": "3.13.1"
  }
 },
 "nbformat": 4,
 "nbformat_minor": 2
}
